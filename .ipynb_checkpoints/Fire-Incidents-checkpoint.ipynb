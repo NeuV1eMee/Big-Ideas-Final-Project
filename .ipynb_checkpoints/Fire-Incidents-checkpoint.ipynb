{
 "cells": [
  {
   "cell_type": "markdown",
   "metadata": {},
   "source": [
    "### \"Fire is the emblem of the heart.\""
   ]
  },
  {
   "cell_type": "markdown",
   "metadata": {},
   "source": [
    "    When choosing a neighborhood, considering fire incidents is essential as they reflect the area's safety and quality of life.\n",
    "    \n",
    "    High fire frequencies may suggest safety risks, including outdated infrastructure or insufficient fire prevention measures. The presence of an efficient and responsive fire department is crucial for ensuring safety and protecting property. Additionally, fire incidents can influence insurance premiums, with higher rates in areas with more frequent fires.\n",
    "    \n",
    "    Therefore, the rate and handling of fire incidents offer valuable insights into a neighborhood's safety, emergency readiness, and overall living conditions, making it a key factor in selecting an ideal place to reside."
   ]
  },
  {
   "cell_type": "code",
   "execution_count": null,
   "metadata": {},
   "outputs": [],
   "source": [
    "!pip install folium"
   ]
  },
  {
   "cell_type": "code",
   "execution_count": null,
   "metadata": {},
   "outputs": [],
   "source": [
    "import pandas as pd\n",
    "import folium\n",
    "from folium.plugins import HeatMap\n",
    "import matplotlib.pyplot as plt"
   ]
  },
  {
   "cell_type": "code",
   "execution_count": null,
   "metadata": {},
   "outputs": [],
   "source": [
    "# Load the data from the provided CSV files\n",
    "fire_incidents_path = '/mnt/data/FireIncidents.csv'\n",
    "pittsburgh_population_path = '/mnt/data/PittsburghPopulation.csv'\n",
    "\n",
    "# Read the CSV files into DataFrames\n",
    "fire_incidents_df = pd.read_csv(fire_incidents_path)\n",
    "pittsburgh_population_df = pd.read_csv(pittsburgh_population_path)\n",
    "\n",
    "# Display the first few rows of each DataFrame to understand their structure\n",
    "fire_incidents_head = fire_incidents_df.head()\n",
    "pittsburgh_population_head = pittsburgh_population_df.head()\n",
    "\n",
    "fire_incidents_head, pittsburgh_population_head"
   ]
  },
  {
   "cell_type": "code",
   "execution_count": null,
   "metadata": {},
   "outputs": [],
   "source": [
    "pittsburgh_center = [40.4406, -79.9959]\n",
    "\n",
    "# Create a base map of Pittsburgh\n",
    "map_pittsburgh = folium.Map(location=pittsburgh_center, zoom_start=12)\n",
    "\n",
    "# Add a heat map layer for the fire incidents\n",
    "# Filter out rows with missing latitude or longitude\n",
    "fire_incidents_filtered = fire_incidents_df.dropna(subset=['latitude', 'longitude'])\n",
    "fire_incidents_coords = fire_incidents_filtered[['latitude', 'longitude']].values\n",
    "\n",
    "# Create a HeatMap layer for fire incidents\n",
    "heat_map = HeatMap(fire_incidents_coords, radius=10)\n",
    "map_pittsburgh.add_child(heat_map)\n",
    "\n",
    "# Display the map\n",
    "map_pittsburgh.save('/mnt/data/pittsburgh_fire_incidents_map.html')\n",
    "\"/mnt/data/pittsburgh_fire_incidents_map.html\""
   ]
  },
  {
   "cell_type": "code",
   "execution_count": null,
   "metadata": {},
   "outputs": [],
   "source": [
    "# Scatter plot for fire incidents\n",
    "plt.figure(figsize=(10, 7))\n",
    "\n",
    "# Plotting the fire incidents\n",
    "plt.scatter(fire_incidents_filtered['longitude'], fire_incidents_filtered['latitude'], \n",
    "            alpha=0.5, c='red', label='Fire Incidents')\n",
    "\n",
    "# Setting the title and labels\n",
    "plt.title('Fire Incidents in Pittsburgh')\n",
    "plt.xlabel('Longitude')\n",
    "plt.ylabel('Latitude')\n",
    "\n",
    "# Setting the legend\n",
    "plt.legend()\n",
    "\n",
    "# Show the plot\n",
    "plt.show()"
   ]
  }
 ],
 "metadata": {
  "kernelspec": {
   "display_name": "Python 3",
   "language": "python",
   "name": "python3"
  },
  "language_info": {
   "codemirror_mode": {
    "name": "ipython",
    "version": 3
   },
   "file_extension": ".py",
   "mimetype": "text/x-python",
   "name": "python",
   "nbconvert_exporter": "python",
   "pygments_lexer": "ipython3",
   "version": "3.8.3"
  }
 },
 "nbformat": 4,
 "nbformat_minor": 4
}
